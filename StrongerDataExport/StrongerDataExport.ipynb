{
 "cells": [
  {
   "cell_type": "markdown",
   "metadata": {
    "id": "jhj9wvlZY5yg"
   },
   "source": [
    "# Import Stronger Data Export module"
   ]
  },
  {
   "cell_type": "code",
   "execution_count": null,
   "metadata": {},
   "outputs": [],
   "source": [
    "from StrongerDataExport import *"
   ]
  },
  {
   "cell_type": "markdown",
   "metadata": {},
   "source": [
    "# Connect to Firebase"
   ]
  },
  {
   "cell_type": "code",
   "execution_count": null,
   "metadata": {
    "id": "7Eq4wNI1aVZC"
   },
   "outputs": [],
   "source": [
    "# Define your Firebase project ID\n",
    "project_id = 'cs342-2024-stronger'\n",
    "\n",
    "# Set your service account credentials for a production project\n",
    "serviceAccountKey_file = 'path_to_service_account_key_file/service_account_key.json'\n",
    "\n",
    "db = connect_to_firebase(project_id, serviceAccountKey_file)"
   ]
  },
  {
   "cell_type": "markdown",
   "metadata": {},
   "source": [
    "# Export proterin intake and exercise data"
   ]
  },
  {
   "cell_type": "code",
   "execution_count": null,
   "metadata": {
    "id": "1Qow-2oddcoF"
   },
   "outputs": [],
   "source": [
    "users_df, protein_df, exercise_df = process_data(db)"
   ]
  },
  {
   "cell_type": "code",
   "execution_count": null,
   "metadata": {
    "colab": {
     "base_uri": "https://localhost:8080/",
     "height": 201
    },
    "id": "gurhvOcNi83W",
    "outputId": "0803d441-8ee4-49fd-cc84-056589477de3"
   },
   "outputs": [],
   "source": [
    "exercise_df.head()"
   ]
  }
 ],
 "metadata": {
  "colab": {
   "provenance": []
  },
  "kernelspec": {
   "display_name": "Python 3 (ipykernel)",
   "language": "python",
   "name": "python3"
  },
  "language_info": {
   "codemirror_mode": {
    "name": "ipython",
    "version": 3
   },
   "file_extension": ".py",
   "mimetype": "text/x-python",
   "name": "python",
   "nbconvert_exporter": "python",
   "pygments_lexer": "ipython3",
   "version": "3.10.9"
  }
 },
 "nbformat": 4,
 "nbformat_minor": 4
}
